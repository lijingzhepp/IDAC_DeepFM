{
 "cells": [
  {
   "cell_type": "code",
   "execution_count": null,
   "id": "98eee93b",
   "metadata": {},
   "outputs": [],
   "source": [
    "IL_Fragmentation_Results = []\n",
    "with open('structures_DB_combined_fragmentation_with_pattern_sorting_results.log') as f:\n",
    "    for line in f.readlines():\n",
    "        IL_Fragmentation_Results.append(line)"
   ]
  },
  {
   "cell_type": "code",
   "execution_count": null,
   "id": "83a03b2f",
   "metadata": {},
   "outputs": [],
   "source": [
    "print(IL_Fragmentation_Results)"
   ]
  },
  {
   "cell_type": "code",
   "execution_count": null,
   "id": "db3a4c29",
   "metadata": {},
   "outputs": [],
   "source": [
    "r = []\n",
    "while IL_Fragmentation_Results:\n",
    "    a = IL_Fragmentation_Results.index('Fragmentation from the algorithm:\\n')\n",
    "    b = IL_Fragmentation_Results[a+1:].index('\\n')+a+1\n",
    "    c = IL_Fragmentation_Results[a+1:b]\n",
    "    r.append(c)\n",
    "    IL_Fragmentation_Results = IL_Fragmentation_Results[b+3:]\n",
    "print(r)\n",
    "print(len(r))"
   ]
  },
  {
   "cell_type": "code",
   "execution_count": null,
   "id": "28ee307f",
   "metadata": {},
   "outputs": [],
   "source": [
    "results = []\n",
    "for i in range(0,len(r)):\n",
    "    results.append([0]*122)\n",
    "print(len(results)) \n",
    "\n",
    "for i in range(0,len(r)):\n",
    "    for j in r[i]:\n",
    "        d = j.split()\n",
    "        results[i][int(d[-2])-1] = int(d[-1])\n",
    "print(results)"
   ]
  },
  {
   "cell_type": "code",
   "execution_count": null,
   "id": "51a3f1a3",
   "metadata": {},
   "outputs": [],
   "source": [
    "f= open(\"IL_Fragmentation_Results.txt\",\"w+\")\n",
    "for i in results:\n",
    "    f.write(str(i)+'\\n')\n",
    "f.close()"
   ]
  }
 ],
 "metadata": {
  "kernelspec": {
   "display_name": "Python 3",
   "language": "python",
   "name": "python3"
  },
  "language_info": {
   "codemirror_mode": {
    "name": "ipython",
    "version": 3
   },
   "file_extension": ".py",
   "mimetype": "text/x-python",
   "name": "python",
   "nbconvert_exporter": "python",
   "pygments_lexer": "ipython3",
   "version": "3.6.7"
  }
 },
 "nbformat": 4,
 "nbformat_minor": 5
}
