{
 "cells": [
  {
   "cell_type": "code",
   "execution_count": null,
   "id": "6b217b13",
   "metadata": {},
   "outputs": [],
   "source": [
    "Solute_Fragmentation_Results = []\n",
    "with open('structures_DB_combined_fragmentation_with_pattern_sorting_results.log') as f:\n",
    "    for line in f.readlines():\n",
    "        Solute_Fragmentation_Results.append(line)\n",
    "print(Solute_Fragmentation_Results)"
   ]
  },
  {
   "cell_type": "code",
   "execution_count": null,
   "id": "89727b59",
   "metadata": {},
   "outputs": [],
   "source": [
    "r = []\n",
    "while Solute_Fragmentation_Results:\n",
    "    a = Solute_Fragmentation_Results.index('Fragmentation from the algorithm:\\n')\n",
    "    b = Solute_Fragmentation_Results[a+1:].index('\\n')+a+1\n",
    "    c = Solute_Fragmentation_Results[a+1:b]\n",
    "    r.append(c)\n",
    "    Solute_Fragmentation_Results = Solute_Fragmentation_Results[b+3:]\n",
    "print(r)\n",
    "print(len(r))"
   ]
  },
  {
   "cell_type": "code",
   "execution_count": null,
   "id": "f4b012bc",
   "metadata": {},
   "outputs": [],
   "source": [
    "results = []\n",
    "for i in range(0,len(r)):\n",
    "    results.append([0]*122)\n",
    "print(len(results)) \n",
    "\n",
    "for i in range(0,len(r)):\n",
    "    for j in r[i]:\n",
    "        d = j.split()\n",
    "        results[i][int(d[-2])-1] = int(d[-1])\n",
    "print(results)"
   ]
  },
  {
   "cell_type": "code",
   "execution_count": null,
   "id": "1b051fe6",
   "metadata": {},
   "outputs": [],
   "source": [
    "f= open(\"Solute_Fragmentation_Results.txt\",\"w+\")\n",
    "for i in results:\n",
    "    f.write(str(i)+'\\n')\n",
    "f.close()"
   ]
  }
 ],
 "metadata": {
  "kernelspec": {
   "display_name": "Python 3",
   "language": "python",
   "name": "python3"
  },
  "language_info": {
   "codemirror_mode": {
    "name": "ipython",
    "version": 3
   },
   "file_extension": ".py",
   "mimetype": "text/x-python",
   "name": "python",
   "nbconvert_exporter": "python",
   "pygments_lexer": "ipython3",
   "version": "3.6.7"
  }
 },
 "nbformat": 4,
 "nbformat_minor": 5
}
