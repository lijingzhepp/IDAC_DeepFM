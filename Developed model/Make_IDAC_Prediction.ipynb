{
 "cells": [
  {
   "cell_type": "code",
   "execution_count": null,
   "id": "239b0731",
   "metadata": {},
   "outputs": [],
   "source": [
    "# import libraries\n",
    "import pandas as pd\n",
    "import numpy as np\n",
    "from numpy import exp\n",
    "from pandas import cut\n",
    "from sklearn.metrics import mean_squared_error\n",
    "from sklearn.model_selection import train_test_split\n",
    "from sklearn.preprocessing import LabelEncoder, MinMaxScaler\n",
    "from sklearn import metrics\n",
    "from tensorflow.keras.optimizers import Adam, Adagrad\n",
    "from tensorflow.keras.callbacks import EarlyStopping\n",
    "from sklearn.metrics import mean_squared_error, r2_score, mean_absolute_error, mean_absolute_percentage_error\n",
    "from tensorflow.keras.models import  save_model,load_model\n",
    "from deepctr.layers import custom_objects\n",
    "from deepctr.models import DeepFM\n",
    "from deepctr.feature_column import SparseFeat, DenseFeat, get_feature_names\n",
    "import xlsxwriter"
   ]
  },
  {
   "cell_type": "code",
   "execution_count": null,
   "id": "8256f8fb",
   "metadata": {},
   "outputs": [],
   "source": [
    "# 1.Read sample data\n",
    "data = pd.read_csv('./Sample.csv')\n",
    "sparse_features = list(data.columns)[9:]\n",
    "dense_features = list(data.columns)[1:9]\n",
    "target = ['column1']"
   ]
  },
  {
   "cell_type": "code",
   "execution_count": null,
   "id": "fc5b2d22",
   "metadata": {},
   "outputs": [],
   "source": [
    "# 2. Read model\n",
    "filename = 'DeepFM_dnn(512, 256, 256)_embedding5_lr0.001_bs256_drop0_l2l1e-05_l2e1e-05_l2d0_cv8_rep1_model.h5'\n",
    "model = load_model(filename,custom_objects)"
   ]
  },
  {
   "cell_type": "code",
   "execution_count": null,
   "id": "5308d6df",
   "metadata": {},
   "outputs": [],
   "source": [
    "# 3.Label Encoding for sparse features,and do simple Transformation for dense features\n",
    "for feat in sparse_features:\n",
    "    lbe = LabelEncoder()\n",
    "    data[feat] = lbe.fit_transform(data[feat])\n",
    "\n",
    "mms = MinMaxScaler(feature_range=(0, 1))\n",
    "data[dense_features] = mms.fit_transform(data[dense_features])"
   ]
  },
  {
   "cell_type": "code",
   "execution_count": null,
   "id": "8a814c14",
   "metadata": {},
   "outputs": [],
   "source": [
    "# 4.count #unique features for each sparse field\n",
    "embedding_list = [4, 5, 6, 7]\n",
    "e = embedding_list[1]\n",
    "\n",
    "fixlen_feature_columns = [SparseFeat(feat, data[feat].max() + 1, embedding_dim=e)\n",
    "                          for feat in sparse_features] + [DenseFeat(feat, 1, ) for feat in dense_features]\n",
    "\n",
    "linear_feature_columns = fixlen_feature_columns\n",
    "dnn_feature_columns = fixlen_feature_columns\n",
    "feature_names = get_feature_names(linear_feature_columns + dnn_feature_columns)"
   ]
  },
  {
   "cell_type": "code",
   "execution_count": null,
   "id": "8da41c61",
   "metadata": {},
   "outputs": [],
   "source": [
    "# 5.Calculate predicted IDAC\n",
    "sample = data.loc[:,:]\n",
    "sample_model_input = {name: sample[name].values for name in feature_names}\n",
    "sample_ans = model.predict(sample_model_input, batch_size=256)"
   ]
  },
  {
   "cell_type": "code",
   "execution_count": null,
   "id": "a2c06fb4",
   "metadata": {},
   "outputs": [],
   "source": [
    "# 6.Write predicted IDAC into excel file\n",
    "workbook = xlsxwriter.Workbook('Predicted_IDAC.xlsx')\n",
    "worksheet = workbook.add_worksheet()\n",
    "row = 0\n",
    "for i in range(0,52372):\n",
    "    worksheet.write (row, 0, sample_ans[i])\n",
    "    row += 1\n",
    "workbook.close()"
   ]
  },
  {
   "cell_type": "code",
   "execution_count": null,
   "id": "101ac788",
   "metadata": {},
   "outputs": [],
   "source": []
  }
 ],
 "metadata": {
  "kernelspec": {
   "display_name": "Python 3",
   "language": "python",
   "name": "python3"
  },
  "language_info": {
   "codemirror_mode": {
    "name": "ipython",
    "version": 3
   },
   "file_extension": ".py",
   "mimetype": "text/x-python",
   "name": "python",
   "nbconvert_exporter": "python",
   "pygments_lexer": "ipython3",
   "version": "3.7.10"
  }
 },
 "nbformat": 4,
 "nbformat_minor": 5
}
